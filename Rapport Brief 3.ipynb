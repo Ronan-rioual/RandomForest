{
 "cells": [
  {
   "cell_type": "markdown",
   "metadata": {},
   "source": [
    "### 1.2-1 traitons-nous un problème de classification ou de régression ?\n",
    "\n",
    "C'est un problème de régression"
   ]
  },
  {
   "cell_type": "markdown",
   "metadata": {},
   "source": [
    "### 1.2-2 Quelle remarque sur l’attribut \"total_bedrooms\" par rapport aux autres attributs ?\n",
    "\n",
    "Il y a 207 valeurs nulles"
   ]
  },
  {
   "cell_type": "markdown",
   "metadata": {},
   "source": [
    "### 1.4-4 Créez un code qui affiche, en valeur, la corrélation de l’attribut \"median_house_value\" avec les autres attributs. Qu’est ce que vous remarquez ?\n",
    "\n",
    "La valeur de median_income est assez proche de median_house_value"
   ]
  },
  {
   "cell_type": "code",
   "execution_count": null,
   "metadata": {},
   "outputs": [],
   "source": []
  }
 ],
 "metadata": {
  "kernelspec": {
   "display_name": "Python 3",
   "language": "python",
   "name": "python3"
  },
  "language_info": {
   "codemirror_mode": {
    "name": "ipython",
    "version": 3
   },
   "file_extension": ".py",
   "mimetype": "text/x-python",
   "name": "python",
   "nbconvert_exporter": "python",
   "pygments_lexer": "ipython3",
   "version": "3.8.5"
  }
 },
 "nbformat": 4,
 "nbformat_minor": 4
}
